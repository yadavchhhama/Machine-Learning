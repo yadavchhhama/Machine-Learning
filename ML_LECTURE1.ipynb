{
 "cells": [
  {
   "cell_type": "code",
   "execution_count": 1,
   "id": "e7a4b2f7",
   "metadata": {},
   "outputs": [],
   "source": [
    "import numpy as np\n",
    "import pandas as pd"
   ]
  },
  {
   "cell_type": "code",
   "execution_count": 2,
   "id": "8efcaac5",
   "metadata": {},
   "outputs": [],
   "source": [
    "df = pd.read_csv('placement.csv')"
   ]
  },
  {
   "cell_type": "code",
   "execution_count": 3,
   "id": "16d46d78",
   "metadata": {
    "scrolled": true
   },
   "outputs": [
    {
     "data": {
      "text/html": [
       "<div>\n",
       "<style scoped>\n",
       "    .dataframe tbody tr th:only-of-type {\n",
       "        vertical-align: middle;\n",
       "    }\n",
       "\n",
       "    .dataframe tbody tr th {\n",
       "        vertical-align: top;\n",
       "    }\n",
       "\n",
       "    .dataframe thead th {\n",
       "        text-align: right;\n",
       "    }\n",
       "</style>\n",
       "<table border=\"1\" class=\"dataframe\">\n",
       "  <thead>\n",
       "    <tr style=\"text-align: right;\">\n",
       "      <th></th>\n",
       "      <th>Unnamed: 0</th>\n",
       "      <th>cgpa</th>\n",
       "      <th>iq</th>\n",
       "      <th>placement</th>\n",
       "    </tr>\n",
       "  </thead>\n",
       "  <tbody>\n",
       "    <tr>\n",
       "      <th>0</th>\n",
       "      <td>0</td>\n",
       "      <td>6.8</td>\n",
       "      <td>123.0</td>\n",
       "      <td>1</td>\n",
       "    </tr>\n",
       "    <tr>\n",
       "      <th>1</th>\n",
       "      <td>1</td>\n",
       "      <td>5.9</td>\n",
       "      <td>106.0</td>\n",
       "      <td>0</td>\n",
       "    </tr>\n",
       "    <tr>\n",
       "      <th>2</th>\n",
       "      <td>2</td>\n",
       "      <td>5.3</td>\n",
       "      <td>121.0</td>\n",
       "      <td>0</td>\n",
       "    </tr>\n",
       "    <tr>\n",
       "      <th>3</th>\n",
       "      <td>3</td>\n",
       "      <td>7.4</td>\n",
       "      <td>132.0</td>\n",
       "      <td>1</td>\n",
       "    </tr>\n",
       "    <tr>\n",
       "      <th>4</th>\n",
       "      <td>4</td>\n",
       "      <td>5.8</td>\n",
       "      <td>142.0</td>\n",
       "      <td>0</td>\n",
       "    </tr>\n",
       "  </tbody>\n",
       "</table>\n",
       "</div>"
      ],
      "text/plain": [
       "   Unnamed: 0  cgpa     iq  placement\n",
       "0           0   6.8  123.0          1\n",
       "1           1   5.9  106.0          0\n",
       "2           2   5.3  121.0          0\n",
       "3           3   7.4  132.0          1\n",
       "4           4   5.8  142.0          0"
      ]
     },
     "execution_count": 3,
     "metadata": {},
     "output_type": "execute_result"
    }
   ],
   "source": [
    "df.head()"
   ]
  },
  {
   "cell_type": "code",
   "execution_count": 4,
   "id": "1796b2d2",
   "metadata": {},
   "outputs": [
    {
     "name": "stdout",
     "output_type": "stream",
     "text": [
      "<class 'pandas.core.frame.DataFrame'>\n",
      "RangeIndex: 100 entries, 0 to 99\n",
      "Data columns (total 4 columns):\n",
      " #   Column      Non-Null Count  Dtype  \n",
      "---  ------      --------------  -----  \n",
      " 0   Unnamed: 0  100 non-null    int64  \n",
      " 1   cgpa        100 non-null    float64\n",
      " 2   iq          100 non-null    float64\n",
      " 3   placement   100 non-null    int64  \n",
      "dtypes: float64(2), int64(2)\n",
      "memory usage: 3.3 KB\n"
     ]
    }
   ],
   "source": [
    "df.info()"
   ]
  },
  {
   "cell_type": "code",
   "execution_count": 5,
   "id": "652182a0",
   "metadata": {},
   "outputs": [
    {
     "data": {
      "text/plain": [
       "(100, 4)"
      ]
     },
     "execution_count": 5,
     "metadata": {},
     "output_type": "execute_result"
    }
   ],
   "source": [
    "df.shape"
   ]
  },
  {
   "cell_type": "code",
   "execution_count": 6,
   "id": "a6e1e251",
   "metadata": {},
   "outputs": [],
   "source": [
    "df = df.iloc[:,1:]"
   ]
  },
  {
   "cell_type": "code",
   "execution_count": 7,
   "id": "2820a925",
   "metadata": {},
   "outputs": [
    {
     "data": {
      "text/html": [
       "<div>\n",
       "<style scoped>\n",
       "    .dataframe tbody tr th:only-of-type {\n",
       "        vertical-align: middle;\n",
       "    }\n",
       "\n",
       "    .dataframe tbody tr th {\n",
       "        vertical-align: top;\n",
       "    }\n",
       "\n",
       "    .dataframe thead th {\n",
       "        text-align: right;\n",
       "    }\n",
       "</style>\n",
       "<table border=\"1\" class=\"dataframe\">\n",
       "  <thead>\n",
       "    <tr style=\"text-align: right;\">\n",
       "      <th></th>\n",
       "      <th>cgpa</th>\n",
       "      <th>iq</th>\n",
       "      <th>placement</th>\n",
       "    </tr>\n",
       "  </thead>\n",
       "  <tbody>\n",
       "    <tr>\n",
       "      <th>0</th>\n",
       "      <td>6.8</td>\n",
       "      <td>123.0</td>\n",
       "      <td>1</td>\n",
       "    </tr>\n",
       "    <tr>\n",
       "      <th>1</th>\n",
       "      <td>5.9</td>\n",
       "      <td>106.0</td>\n",
       "      <td>0</td>\n",
       "    </tr>\n",
       "    <tr>\n",
       "      <th>2</th>\n",
       "      <td>5.3</td>\n",
       "      <td>121.0</td>\n",
       "      <td>0</td>\n",
       "    </tr>\n",
       "    <tr>\n",
       "      <th>3</th>\n",
       "      <td>7.4</td>\n",
       "      <td>132.0</td>\n",
       "      <td>1</td>\n",
       "    </tr>\n",
       "    <tr>\n",
       "      <th>4</th>\n",
       "      <td>5.8</td>\n",
       "      <td>142.0</td>\n",
       "      <td>0</td>\n",
       "    </tr>\n",
       "  </tbody>\n",
       "</table>\n",
       "</div>"
      ],
      "text/plain": [
       "   cgpa     iq  placement\n",
       "0   6.8  123.0          1\n",
       "1   5.9  106.0          0\n",
       "2   5.3  121.0          0\n",
       "3   7.4  132.0          1\n",
       "4   5.8  142.0          0"
      ]
     },
     "execution_count": 7,
     "metadata": {},
     "output_type": "execute_result"
    }
   ],
   "source": [
    "df.head()"
   ]
  },
  {
   "cell_type": "code",
   "execution_count": 8,
   "id": "e056c970",
   "metadata": {},
   "outputs": [],
   "source": [
    "import matplotlib.pyplot as plt"
   ]
  },
  {
   "cell_type": "code",
   "execution_count": 9,
   "id": "d1b65d70",
   "metadata": {},
   "outputs": [
    {
     "data": {
      "text/plain": [
       "<matplotlib.collections.PathCollection at 0x1ccbc000a50>"
      ]
     },
     "execution_count": 9,
     "metadata": {},
     "output_type": "execute_result"
    },
    {
     "data": {
      "image/png": "[encoded data removed]",
      "text/plain": [
       "<Figure size 640x480 with 1 Axes>"
      ]
     },
     "metadata": {},
     "output_type": "display_data"
    }
   ],
   "source": [
    "plt.scatter(df['cgpa'],df['iq'],c=df['placement'])"
   ]
  },
  {
   "cell_type": "code",
   "execution_count": 11,
   "id": "f0a76fcb",
   "metadata": {},
   "outputs": [],
   "source": [
    "X = df.iloc[:,0:2]\n",
    "Y = df.iloc[:,-1]"
   ]
  },
  {
   "cell_type": "code",
   "execution_count": 12,
   "id": "ae137174",
   "metadata": {},
   "outputs": [
    {
     "data": {
      "text/html": [
       "<div>\n",
       "<style scoped>\n",
       "    .dataframe tbody tr th:only-of-type {\n",
       "        vertical-align: middle;\n",
       "    }\n",
       "\n",
       "    .dataframe tbody tr th {\n",
       "        vertical-align: top;\n",
       "    }\n",
       "\n",
       "    .dataframe thead th {\n",
       "        text-align: right;\n",
       "    }\n",
       "</style>\n",
       "<table border=\"1\" class=\"dataframe\">\n",
       "  <thead>\n",
       "    <tr style=\"text-align: right;\">\n",
       "      <th></th>\n",
       "      <th>cgpa</th>\n",
       "      <th>iq</th>\n",
       "    </tr>\n",
       "  </thead>\n",
       "  <tbody>\n",
       "    <tr>\n",
       "      <th>0</th>\n",
       "      <td>6.8</td>\n",
       "      <td>123.0</td>\n",
       "    </tr>\n",
       "    <tr>\n",
       "      <th>1</th>\n",
       "      <td>5.9</td>\n",
       "      <td>106.0</td>\n",
       "    </tr>\n",
       "    <tr>\n",
       "      <th>2</th>\n",
       "      <td>5.3</td>\n",
       "      <td>121.0</td>\n",
       "    </tr>\n",
       "    <tr>\n",
       "      <th>3</th>\n",
       "      <td>7.4</td>\n",
       "      <td>132.0</td>\n",
       "    </tr>\n",
       "    <tr>\n",
       "      <th>4</th>\n",
       "      <td>5.8</td>\n",
       "      <td>142.0</td>\n",
       "    </tr>\n",
       "    <tr>\n",
       "      <th>...</th>\n",
       "      <td>...</td>\n",
       "      <td>...</td>\n",
       "    </tr>\n",
       "    <tr>\n",
       "      <th>95</th>\n",
       "      <td>4.3</td>\n",
       "      <td>200.0</td>\n",
       "    </tr>\n",
       "    <tr>\n",
       "      <th>96</th>\n",
       "      <td>4.4</td>\n",
       "      <td>42.0</td>\n",
       "    </tr>\n",
       "    <tr>\n",
       "      <th>97</th>\n",
       "      <td>6.7</td>\n",
       "      <td>182.0</td>\n",
       "    </tr>\n",
       "    <tr>\n",
       "      <th>98</th>\n",
       "      <td>6.3</td>\n",
       "      <td>103.0</td>\n",
       "    </tr>\n",
       "    <tr>\n",
       "      <th>99</th>\n",
       "      <td>6.2</td>\n",
       "      <td>113.0</td>\n",
       "    </tr>\n",
       "  </tbody>\n",
       "</table>\n",
       "<p>100 rows × 2 columns</p>\n",
       "</div>"
      ],
      "text/plain": [
       "    cgpa     iq\n",
       "0    6.8  123.0\n",
       "1    5.9  106.0\n",
       "2    5.3  121.0\n",
       "3    7.4  132.0\n",
       "4    5.8  142.0\n",
       "..   ...    ...\n",
       "95   4.3  200.0\n",
       "96   4.4   42.0\n",
       "97   6.7  182.0\n",
       "98   6.3  103.0\n",
       "99   6.2  113.0\n",
       "\n",
       "[100 rows x 2 columns]"
      ]
     },
     "execution_count": 12,
     "metadata": {},
     "output_type": "execute_result"
    }
   ],
   "source": [
    "X"
   ]
  },
  {
   "cell_type": "code",
   "execution_count": 13,
   "id": "ea1d7d59",
   "metadata": {},
   "outputs": [
    {
     "data": {
      "text/plain": [
       "(100, 2)"
      ]
     },
     "execution_count": 13,
     "metadata": {},
     "output_type": "execute_result"
    }
   ],
   "source": [
    "X.shape"
   ]
  },
  {
   "cell_type": "code",
   "execution_count": 14,
   "id": "c9a2380f",
   "metadata": {},
   "outputs": [
    {
     "data": {
      "text/plain": [
       "0     1\n",
       "1     0\n",
       "2     0\n",
       "3     1\n",
       "4     0\n",
       "     ..\n",
       "95    0\n",
       "96    0\n",
       "97    1\n",
       "98    1\n",
       "99    1\n",
       "Name: placement, Length: 100, dtype: int64"
      ]
     },
     "execution_count": 14,
     "metadata": {},
     "output_type": "execute_result"
    }
   ],
   "source": [
    "Y"
   ]
  },
  {
   "cell_type": "code",
   "execution_count": 15,
   "id": "57e023a3",
   "metadata": {},
   "outputs": [
    {
     "data": {
      "text/plain": [
       "(100,)"
      ]
     },
     "execution_count": 15,
     "metadata": {},
     "output_type": "execute_result"
    }
   ],
   "source": [
    "Y.shape"
   ]
  },
  {
   "cell_type": "code",
   "execution_count": 16,
   "id": "f21d8c9d",
   "metadata": {},
   "outputs": [],
   "source": [
    "from sklearn.model_selection import train_test_split"
   ]
  },
  {
   "cell_type": "code",
   "execution_count": 18,
   "id": "d14a674a",
   "metadata": {},
   "outputs": [],
   "source": [
    "X_train,X_test,Y_train,Y_test = train_test_split(X,Y,test_size=0.1)"
   ]
  },
  {
   "cell_type": "code",
   "execution_count": 19,
   "id": "6f73c5c3",
   "metadata": {},
   "outputs": [
    {
     "data": {
      "text/html": [
       "<div>\n",
       "<style scoped>\n",
       "    .dataframe tbody tr th:only-of-type {\n",
       "        vertical-align: middle;\n",
       "    }\n",
       "\n",
       "    .dataframe tbody tr th {\n",
       "        vertical-align: top;\n",
       "    }\n",
       "\n",
       "    .dataframe thead th {\n",
       "        text-align: right;\n",
       "    }\n",
       "</style>\n",
       "<table border=\"1\" class=\"dataframe\">\n",
       "  <thead>\n",
       "    <tr style=\"text-align: right;\">\n",
       "      <th></th>\n",
       "      <th>cgpa</th>\n",
       "      <th>iq</th>\n",
       "    </tr>\n",
       "  </thead>\n",
       "  <tbody>\n",
       "    <tr>\n",
       "      <th>18</th>\n",
       "      <td>4.0</td>\n",
       "      <td>100.0</td>\n",
       "    </tr>\n",
       "    <tr>\n",
       "      <th>82</th>\n",
       "      <td>6.5</td>\n",
       "      <td>37.0</td>\n",
       "    </tr>\n",
       "    <tr>\n",
       "      <th>68</th>\n",
       "      <td>4.0</td>\n",
       "      <td>75.0</td>\n",
       "    </tr>\n",
       "    <tr>\n",
       "      <th>61</th>\n",
       "      <td>7.3</td>\n",
       "      <td>137.0</td>\n",
       "    </tr>\n",
       "    <tr>\n",
       "      <th>39</th>\n",
       "      <td>4.6</td>\n",
       "      <td>146.0</td>\n",
       "    </tr>\n",
       "    <tr>\n",
       "      <th>...</th>\n",
       "      <td>...</td>\n",
       "      <td>...</td>\n",
       "    </tr>\n",
       "    <tr>\n",
       "      <th>1</th>\n",
       "      <td>5.9</td>\n",
       "      <td>106.0</td>\n",
       "    </tr>\n",
       "    <tr>\n",
       "      <th>98</th>\n",
       "      <td>6.3</td>\n",
       "      <td>103.0</td>\n",
       "    </tr>\n",
       "    <tr>\n",
       "      <th>96</th>\n",
       "      <td>4.4</td>\n",
       "      <td>42.0</td>\n",
       "    </tr>\n",
       "    <tr>\n",
       "      <th>12</th>\n",
       "      <td>5.4</td>\n",
       "      <td>139.0</td>\n",
       "    </tr>\n",
       "    <tr>\n",
       "      <th>29</th>\n",
       "      <td>7.0</td>\n",
       "      <td>112.0</td>\n",
       "    </tr>\n",
       "  </tbody>\n",
       "</table>\n",
       "<p>90 rows × 2 columns</p>\n",
       "</div>"
      ],
      "text/plain": [
       "    cgpa     iq\n",
       "18   4.0  100.0\n",
       "82   6.5   37.0\n",
       "68   4.0   75.0\n",
       "61   7.3  137.0\n",
       "39   4.6  146.0\n",
       "..   ...    ...\n",
       "1    5.9  106.0\n",
       "98   6.3  103.0\n",
       "96   4.4   42.0\n",
       "12   5.4  139.0\n",
       "29   7.0  112.0\n",
       "\n",
       "[90 rows x 2 columns]"
      ]
     },
     "execution_count": 19,
     "metadata": {},
     "output_type": "execute_result"
    }
   ],
   "source": [
    "X_train"
   ]
  },
  {
   "cell_type": "code",
   "execution_count": 20,
   "id": "6b7b379b",
   "metadata": {},
   "outputs": [
    {
     "data": {
      "text/plain": [
       "18    0\n",
       "82    1\n",
       "68    0\n",
       "61    1\n",
       "39    0\n",
       "     ..\n",
       "1     0\n",
       "98    1\n",
       "96    0\n",
       "12    0\n",
       "29    1\n",
       "Name: placement, Length: 90, dtype: int64"
      ]
     },
     "execution_count": 20,
     "metadata": {},
     "output_type": "execute_result"
    }
   ],
   "source": [
    "Y_train"
   ]
  },
  {
   "cell_type": "code",
   "execution_count": 21,
   "id": "28a9c5dd",
   "metadata": {},
   "outputs": [
    {
     "data": {
      "text/html": [
       "<div>\n",
       "<style scoped>\n",
       "    .dataframe tbody tr th:only-of-type {\n",
       "        vertical-align: middle;\n",
       "    }\n",
       "\n",
       "    .dataframe tbody tr th {\n",
       "        vertical-align: top;\n",
       "    }\n",
       "\n",
       "    .dataframe thead th {\n",
       "        text-align: right;\n",
       "    }\n",
       "</style>\n",
       "<table border=\"1\" class=\"dataframe\">\n",
       "  <thead>\n",
       "    <tr style=\"text-align: right;\">\n",
       "      <th></th>\n",
       "      <th>cgpa</th>\n",
       "      <th>iq</th>\n",
       "    </tr>\n",
       "  </thead>\n",
       "  <tbody>\n",
       "    <tr>\n",
       "      <th>58</th>\n",
       "      <td>8.0</td>\n",
       "      <td>79.0</td>\n",
       "    </tr>\n",
       "    <tr>\n",
       "      <th>34</th>\n",
       "      <td>4.8</td>\n",
       "      <td>163.0</td>\n",
       "    </tr>\n",
       "    <tr>\n",
       "      <th>86</th>\n",
       "      <td>5.1</td>\n",
       "      <td>128.0</td>\n",
       "    </tr>\n",
       "    <tr>\n",
       "      <th>33</th>\n",
       "      <td>6.0</td>\n",
       "      <td>149.0</td>\n",
       "    </tr>\n",
       "    <tr>\n",
       "      <th>76</th>\n",
       "      <td>4.9</td>\n",
       "      <td>155.0</td>\n",
       "    </tr>\n",
       "    <tr>\n",
       "      <th>56</th>\n",
       "      <td>6.1</td>\n",
       "      <td>65.0</td>\n",
       "    </tr>\n",
       "    <tr>\n",
       "      <th>65</th>\n",
       "      <td>8.1</td>\n",
       "      <td>166.0</td>\n",
       "    </tr>\n",
       "    <tr>\n",
       "      <th>70</th>\n",
       "      <td>6.3</td>\n",
       "      <td>127.0</td>\n",
       "    </tr>\n",
       "    <tr>\n",
       "      <th>92</th>\n",
       "      <td>5.2</td>\n",
       "      <td>110.0</td>\n",
       "    </tr>\n",
       "    <tr>\n",
       "      <th>43</th>\n",
       "      <td>6.8</td>\n",
       "      <td>141.0</td>\n",
       "    </tr>\n",
       "  </tbody>\n",
       "</table>\n",
       "</div>"
      ],
      "text/plain": [
       "    cgpa     iq\n",
       "58   8.0   79.0\n",
       "34   4.8  163.0\n",
       "86   5.1  128.0\n",
       "33   6.0  149.0\n",
       "76   4.9  155.0\n",
       "56   6.1   65.0\n",
       "65   8.1  166.0\n",
       "70   6.3  127.0\n",
       "92   5.2  110.0\n",
       "43   6.8  141.0"
      ]
     },
     "execution_count": 21,
     "metadata": {},
     "output_type": "execute_result"
    }
   ],
   "source": [
    "X_test"
   ]
  },
  {
   "cell_type": "code",
   "execution_count": 22,
   "id": "8d42cf2c",
   "metadata": {},
   "outputs": [
    {
     "data": {
      "text/plain": [
       "58    1\n",
       "34    0\n",
       "86    0\n",
       "33    0\n",
       "76    0\n",
       "56    0\n",
       "65    1\n",
       "70    1\n",
       "92    0\n",
       "43    1\n",
       "Name: placement, dtype: int64"
      ]
     },
     "execution_count": 22,
     "metadata": {},
     "output_type": "execute_result"
    }
   ],
   "source": [
    "Y_test"
   ]
  },
  {
   "cell_type": "code",
   "execution_count": 24,
   "id": "8510f296",
   "metadata": {},
   "outputs": [],
   "source": [
    "from sklearn.preprocessing import StandardScaler"
   ]
  },
  {
   "cell_type": "code",
   "execution_count": 25,
   "id": "c67b6c9b",
   "metadata": {},
   "outputs": [],
   "source": [
    "scaler = StandardScaler()"
   ]
  },
  {
   "cell_type": "code",
   "execution_count": 26,
   "id": "ff5b7f52",
   "metadata": {},
   "outputs": [],
   "source": [
    "X_train = scaler.fit_transform(X_train)"
   ]
  },
  {
   "cell_type": "code",
   "execution_count": 27,
   "id": "b918cb85",
   "metadata": {},
   "outputs": [
    {
     "data": {
      "text/plain": [
       "array([[-1.73873416e+00, -5.70460128e-01],\n",
       "       [ 4.61576222e-01, -2.12925961e+00],\n",
       "       [-1.73873416e+00, -1.18903135e+00],\n",
       "       [ 1.16567554e+00,  3.45025282e-01],\n",
       "       [-1.21065967e+00,  5.67710922e-01],\n",
       "       [-2.42523100e-01,  4.93482376e-01],\n",
       "       [ 9.89650714e-01,  6.91425167e-01],\n",
       "       [ 1.86977487e+00,  6.41939469e-01],\n",
       "       [-1.12264725e+00, -8.92117164e-01],\n",
       "       [ 2.15141460e-02,  2.33682462e-02],\n",
       "       [-2.42523100e-01,  1.13679645e+00],\n",
       "       [-5.94572761e-01, -5.08603006e-02],\n",
       "       [-1.12264725e+00, -5.08603006e-02],\n",
       "       [-9.46622422e-01,  1.80485337e+00],\n",
       "       [-6.82585176e-01, -8.17888617e-01],\n",
       "       [ 7.25613468e-01, -8.17888617e-01],\n",
       "       [ 7.25613468e-01, -2.73545941e-01],\n",
       "       [-7.70597592e-01, -1.41171699e+00],\n",
       "       [-1.03463484e+00,  1.13679645e+00],\n",
       "       [-9.46622422e-01,  6.91425167e-01],\n",
       "       [ 1.16567554e+00, -9.16860013e-01],\n",
       "       [-5.06560346e-01, -2.24060243e-01],\n",
       "       [ 1.09526561e-01,  8.15139412e-01],\n",
       "       [ 2.22182453e+00, -7.56031495e-02],\n",
       "       [-6.82585176e-01,  9.38853656e-01],\n",
       "       [-7.70597592e-01,  1.30999639e+00],\n",
       "       [-9.46622422e-01, -1.53543124e+00],\n",
       "       [-6.82585176e-01,  2.49765314e+00],\n",
       "       [ 1.09526561e-01, -1.04057426e+00],\n",
       "       [-1.03463484e+00,  4.43996678e-01],\n",
       "       [ 9.01638299e-01, -1.46120269e+00],\n",
       "       [-1.47469691e+00,  1.90382476e+00],\n",
       "       [ 4.61576222e-01, -8.17888617e-01],\n",
       "       [-2.42523100e-01,  4.19253829e-01],\n",
       "       [ 1.42971279e+00, -8.42631466e-01],\n",
       "       [-5.94572761e-01, -2.24060243e-01],\n",
       "       [-1.82674657e+00, -3.47774488e-01],\n",
       "       [ 1.42971279e+00,  1.22339642e-01],\n",
       "       [ 9.01638299e-01,  1.28525354e+00],\n",
       "       [ 5.49588638e-01,  3.69768131e-01],\n",
       "       [ 8.13625883e-01, -6.69431524e-01],\n",
       "       [ 1.09526561e-01,  2.21311038e-01],\n",
       "       [ 2.85551392e-01,  1.22339642e-01],\n",
       "       [-9.46622422e-01, -7.56031495e-02],\n",
       "       [ 6.37601053e-01,  7.65653714e-01],\n",
       "       [-2.42523100e-01,  2.21311038e-01],\n",
       "       [ 9.89650714e-01, -1.85708827e+00],\n",
       "       [ 1.97538977e-01, -2.48803092e-01],\n",
       "       [-2.17879624e+00,  2.72033878e+00],\n",
       "       [-9.46622422e-01,  2.70796735e-01],\n",
       "       [-5.06560346e-01,  2.95539584e-01],\n",
       "       [-8.58610007e-01, -1.25088847e-01],\n",
       "       [-8.58610007e-01, -1.48594554e+00],\n",
       "       [ 2.15141460e-02, -5.20974430e-01],\n",
       "       [ 9.01638299e-01,  1.87908192e+00],\n",
       "       [ 4.61576222e-01,  9.14110807e-01],\n",
       "       [ 5.49588638e-01, -7.56031495e-02],\n",
       "       [ 4.61576222e-01,  1.71825340e-01],\n",
       "       [ 9.01638299e-01,  3.94510980e-01],\n",
       "       [ 3.73563807e-01,  4.43996678e-01],\n",
       "       [ 3.73563807e-01, -1.74574545e-01],\n",
       "       [-1.54510685e-01,  1.06256790e+00],\n",
       "       [ 6.37601053e-01,  1.45845348e+00],\n",
       "       [-6.82585176e-01,  2.21311038e-01],\n",
       "       [ 2.15141460e-02, -1.41171699e+00],\n",
       "       [-2.35482107e+00,  1.48319633e+00],\n",
       "       [ 1.34170038e+00,  1.71825340e-01],\n",
       "       [-8.58610007e-01, -7.93145768e-01],\n",
       "       [ 1.60573762e+00, -2.24060243e-01],\n",
       "       [ 8.13625883e-01,  3.69768131e-01],\n",
       "       [ 2.04579970e+00,  1.11205360e+00],\n",
       "       [ 1.34170038e+00, -1.53543124e+00],\n",
       "       [ 2.15141460e-02, -1.93131682e+00],\n",
       "       [-1.12264725e+00, -1.75811688e+00],\n",
       "       [ 1.34170038e+00,  8.64625109e-01],\n",
       "       [-5.06560346e-01, -3.97260185e-01],\n",
       "       [ 1.25368796e+00,  2.21311038e-01],\n",
       "       [ 1.16567554e+00, -1.74574545e-01],\n",
       "       [-1.54510685e-01,  4.68739527e-01],\n",
       "       [ 7.25613468e-01, -1.37460272e-03],\n",
       "       [-1.03463484e+00, -2.73545941e-01],\n",
       "       [ 1.16567554e+00, -1.80760257e+00],\n",
       "       [-1.38668450e+00,  6.41939469e-01],\n",
       "       [ 8.13625883e-01,  3.94510980e-01],\n",
       "       [ 1.09526561e-01, -4.96231581e-01],\n",
       "       [-6.64982693e-02, -4.22003034e-01],\n",
       "       [ 2.85551392e-01, -4.96231581e-01],\n",
       "       [-1.38668450e+00, -2.00554537e+00],\n",
       "       [-5.06560346e-01,  3.94510980e-01],\n",
       "       [ 9.01638299e-01, -2.73545941e-01]])"
      ]
     },
     "execution_count": 27,
     "metadata": {},
     "output_type": "execute_result"
    }
   ],
   "source": [
    "X_train"
   ]
  },
  {
   "cell_type": "code",
   "execution_count": 28,
   "id": "2e4c7de6",
   "metadata": {},
   "outputs": [],
   "source": [
    "X_test = scaler.transform(X_test)"
   ]
  },
  {
   "cell_type": "code",
   "execution_count": 29,
   "id": "e825a157",
   "metadata": {},
   "outputs": [
    {
     "data": {
      "text/plain": [
       "array([[ 1.78176245, -1.09005996],\n",
       "       [-1.03463484,  0.98833935],\n",
       "       [-0.77059759,  0.12233964],\n",
       "       [ 0.02151415,  0.64193947],\n",
       "       [-0.94662242,  0.79039656],\n",
       "       [ 0.10952656, -1.43645984],\n",
       "       [ 1.86977487,  1.0625679 ],\n",
       "       [ 0.28555139,  0.09759679],\n",
       "       [-0.68258518, -0.32303164],\n",
       "       [ 0.72561347,  0.44399668]])"
      ]
     },
     "execution_count": 29,
     "metadata": {},
     "output_type": "execute_result"
    }
   ],
   "source": [
    "X_test"
   ]
  },
  {
   "cell_type": "code",
   "execution_count": 30,
   "id": "ad80dc5c",
   "metadata": {},
   "outputs": [],
   "source": [
    "from sklearn.linear_model import LogisticRegression"
   ]
  },
  {
   "cell_type": "code",
   "execution_count": 31,
   "id": "81e3a3d6",
   "metadata": {},
   "outputs": [],
   "source": [
    "clf = LogisticRegression()"
   ]
  },
  {
   "cell_type": "code",
   "execution_count": 32,
   "id": "905c21d3",
   "metadata": {},
   "outputs": [
    {
     "data": {
      "text/html": [
       "<style>#sk-container-id-1 {color: black;}#sk-container-id-1 pre{padding: 0;}#sk-container-id-1 div.sk-toggleable {background-color: white;}#sk-container-id-1 label.sk-toggleable__label {cursor: pointer;display: block;width: 100%;margin-bottom: 0;padding: 0.3em;box-sizing: border-box;text-align: center;}#sk-container-id-1 label.sk-toggleable__label-arrow:before {content: \"▸\";float: left;margin-right: 0.25em;color: #696969;}#sk-container-id-1 label.sk-toggleable__label-arrow:hover:before {color: black;}#sk-container-id-1 div.sk-estimator:hover label.sk-toggleable__label-arrow:before {color: black;}#sk-container-id-1 div.sk-toggleable__content {max-height: 0;max-width: 0;overflow: hidden;text-align: left;background-color: #f0f8ff;}#sk-container-id-1 div.sk-toggleable__content pre {margin: 0.2em;color: black;border-radius: 0.25em;background-color: #f0f8ff;}#sk-container-id-1 input.sk-toggleable__control:checked~div.sk-toggleable__content {max-height: 200px;max-width: 100%;overflow: auto;}#sk-container-id-1 input.sk-toggleable__control:checked~label.sk-toggleable__label-arrow:before {content: \"▾\";}#sk-container-id-1 div.sk-estimator input.sk-toggleable__control:checked~label.sk-toggleable__label {background-color: #d4ebff;}#sk-container-id-1 div.sk-label input.sk-toggleable__control:checked~label.sk-toggleable__label {background-color: #d4ebff;}#sk-container-id-1 input.sk-hidden--visually {border: 0;clip: rect(1px 1px 1px 1px);clip: rect(1px, 1px, 1px, 1px);height: 1px;margin: -1px;overflow: hidden;padding: 0;position: absolute;width: 1px;}#sk-container-id-1 div.sk-estimator {font-family: monospace;background-color: #f0f8ff;border: 1px dotted black;border-radius: 0.25em;box-sizing: border-box;margin-bottom: 0.5em;}#sk-container-id-1 div.sk-estimator:hover {background-color: #d4ebff;}#sk-container-id-1 div.sk-parallel-item::after {content: \"\";width: 100%;border-bottom: 1px solid gray;flex-grow: 1;}#sk-container-id-1 div.sk-label:hover label.sk-toggleable__label {background-color: #d4ebff;}#sk-container-id-1 div.sk-serial::before {content: \"\";position: absolute;border-left: 1px solid gray;box-sizing: border-box;top: 0;bottom: 0;left: 50%;z-index: 0;}#sk-container-id-1 div.sk-serial {display: flex;flex-direction: column;align-items: center;background-color: white;padding-right: 0.2em;padding-left: 0.2em;position: relative;}#sk-container-id-1 div.sk-item {position: relative;z-index: 1;}#sk-container-id-1 div.sk-parallel {display: flex;align-items: stretch;justify-content: center;background-color: white;position: relative;}#sk-container-id-1 div.sk-item::before, #sk-container-id-1 div.sk-parallel-item::before {content: \"\";position: absolute;border-left: 1px solid gray;box-sizing: border-box;top: 0;bottom: 0;left: 50%;z-index: -1;}#sk-container-id-1 div.sk-parallel-item {display: flex;flex-direction: column;z-index: 1;position: relative;background-color: white;}#sk-container-id-1 div.sk-parallel-item:first-child::after {align-self: flex-end;width: 50%;}#sk-container-id-1 div.sk-parallel-item:last-child::after {align-self: flex-start;width: 50%;}#sk-container-id-1 div.sk-parallel-item:only-child::after {width: 0;}#sk-container-id-1 div.sk-dashed-wrapped {border: 1px dashed gray;margin: 0 0.4em 0.5em 0.4em;box-sizing: border-box;padding-bottom: 0.4em;background-color: white;}#sk-container-id-1 div.sk-label label {font-family: monospace;font-weight: bold;display: inline-block;line-height: 1.2em;}#sk-container-id-1 div.sk-label-container {text-align: center;}#sk-container-id-1 div.sk-container {/* jupyter's `normalize.less` sets `[hidden] { display: none; }` but bootstrap.min.css set `[hidden] { display: none !important; }` so we also need the `!important` here to be able to override the default hidden behavior on the sphinx rendered scikit-learn.org. See: https://github.com/scikit-learn/scikit-learn/issues/21755 */display: inline-block !important;position: relative;}#sk-container-id-1 div.sk-text-repr-fallback {display: none;}</style><div id=\"sk-container-id-1\" class=\"sk-top-container\"><div class=\"sk-text-repr-fallback\"><pre>LogisticRegression()</pre><b>In a Jupyter environment, please rerun this cell to show the HTML representation or trust the notebook. <br />On GitHub, the HTML representation is unable to render, please try loading this page with nbviewer.org.</b></div><div class=\"sk-container\" hidden><div class=\"sk-item\"><div class=\"sk-estimator sk-toggleable\"><input class=\"sk-toggleable__control sk-hidden--visually\" id=\"sk-estimator-id-1\" type=\"checkbox\" checked><label for=\"sk-estimator-id-1\" class=\"sk-toggleable__label sk-toggleable__label-arrow\">LogisticRegression</label><div class=\"sk-toggleable__content\"><pre>LogisticRegression()</pre></div></div></div></div></div>"
      ],
      "text/plain": [
       "LogisticRegression()"
      ]
     },
     "execution_count": 32,
     "metadata": {},
     "output_type": "execute_result"
    }
   ],
   "source": [
    "#model training\n",
    "clf.fit(X_train,Y_train)"
   ]
  },
  {
   "cell_type": "code",
   "execution_count": 35,
   "id": "53a79f34",
   "metadata": {},
   "outputs": [],
   "source": [
    "Y_pred = clf.predict(X_test)"
   ]
  },
  {
   "cell_type": "code",
   "execution_count": 34,
   "id": "834604ee",
   "metadata": {},
   "outputs": [
    {
     "data": {
      "text/plain": [
       "58    1\n",
       "34    0\n",
       "86    0\n",
       "33    0\n",
       "76    0\n",
       "56    0\n",
       "65    1\n",
       "70    1\n",
       "92    0\n",
       "43    1\n",
       "Name: placement, dtype: int64"
      ]
     },
     "execution_count": 34,
     "metadata": {},
     "output_type": "execute_result"
    }
   ],
   "source": [
    "Y_test"
   ]
  },
  {
   "cell_type": "code",
   "execution_count": 36,
   "id": "c9faf172",
   "metadata": {},
   "outputs": [],
   "source": [
    "from sklearn.metrics import accuracy_score"
   ]
  },
  {
   "cell_type": "code",
   "execution_count": 37,
   "id": "6a7dc5b3",
   "metadata": {},
   "outputs": [
    {
     "data": {
      "text/plain": [
       "0.8"
      ]
     },
     "execution_count": 37,
     "metadata": {},
     "output_type": "execute_result"
    }
   ],
   "source": [
    "accuracy_score(Y_test,Y_pred)"
   ]
  },
  {
   "cell_type": "code",
   "execution_count": 40,
   "id": "c2f9d840",
   "metadata": {},
   "outputs": [
    {
     "name": "stdout",
     "output_type": "stream",
     "text": [
      "Collecting mlxtend\n",
      "  Obtaining dependency information for mlxtend from https://files.pythonhosted.org/packages/1c/07/512f6a780239ad6ce06ce2aa7b4067583f5ddcfc7703a964a082c706a070/mlxtend-0.23.1-py3-none-any.whl.metadata\n",
      "  Downloading mlxtend-0.23.1-py3-none-any.whl.metadata (7.3 kB)\n",
      "Requirement already satisfied: scipy>=1.2.1 in c:\\users\\yadav\\anaconda3\\lib\\site-packages (from mlxtend) (1.11.1)\n",
      "Requirement already satisfied: numpy>=1.16.2 in c:\\users\\yadav\\anaconda3\\lib\\site-packages (from mlxtend) (1.24.3)\n",
      "Requirement already satisfied: pandas>=0.24.2 in c:\\users\\yadav\\anaconda3\\lib\\site-packages (from mlxtend) (2.0.3)\n",
      "Requirement already satisfied: scikit-learn>=1.0.2 in c:\\users\\yadav\\anaconda3\\lib\\site-packages (from mlxtend) (1.3.0)\n",
      "Requirement already satisfied: matplotlib>=3.0.0 in c:\\users\\yadav\\anaconda3\\lib\\site-packages (from mlxtend) (3.7.2)\n",
      "Requirement already satisfied: joblib>=0.13.2 in c:\\users\\yadav\\anaconda3\\lib\\site-packages (from mlxtend) (1.2.0)\n",
      "Requirement already satisfied: contourpy>=1.0.1 in c:\\users\\yadav\\anaconda3\\lib\\site-packages (from matplotlib>=3.0.0->mlxtend) (1.0.5)\n",
      "Requirement already satisfied: cycler>=0.10 in c:\\users\\yadav\\anaconda3\\lib\\site-packages (from matplotlib>=3.0.0->mlxtend) (0.11.0)\n",
      "Requirement already satisfied: fonttools>=4.22.0 in c:\\users\\yadav\\anaconda3\\lib\\site-packages (from matplotlib>=3.0.0->mlxtend) (4.25.0)\n",
      "Requirement already satisfied: kiwisolver>=1.0.1 in c:\\users\\yadav\\anaconda3\\lib\\site-packages (from matplotlib>=3.0.0->mlxtend) (1.4.4)\n",
      "Requirement already satisfied: packaging>=20.0 in c:\\users\\yadav\\anaconda3\\lib\\site-packages (from matplotlib>=3.0.0->mlxtend) (23.1)\n",
      "Requirement already satisfied: pillow>=6.2.0 in c:\\users\\yadav\\anaconda3\\lib\\site-packages (from matplotlib>=3.0.0->mlxtend) (9.4.0)\n",
      "Requirement already satisfied: pyparsing<3.1,>=2.3.1 in c:\\users\\yadav\\anaconda3\\lib\\site-packages (from matplotlib>=3.0.0->mlxtend) (3.0.9)\n",
      "Requirement already satisfied: python-dateutil>=2.7 in c:\\users\\yadav\\anaconda3\\lib\\site-packages (from matplotlib>=3.0.0->mlxtend) (2.8.2)\n",
      "Requirement already satisfied: pytz>=2020.1 in c:\\users\\yadav\\anaconda3\\lib\\site-packages (from pandas>=0.24.2->mlxtend) (2023.3.post1)\n",
      "Requirement already satisfied: tzdata>=2022.1 in c:\\users\\yadav\\anaconda3\\lib\\site-packages (from pandas>=0.24.2->mlxtend) (2023.3)\n",
      "Requirement already satisfied: threadpoolctl>=2.0.0 in c:\\users\\yadav\\anaconda3\\lib\\site-packages (from scikit-learn>=1.0.2->mlxtend) (2.2.0)\n",
      "Requirement already satisfied: six>=1.5 in c:\\users\\yadav\\anaconda3\\lib\\site-packages (from python-dateutil>=2.7->matplotlib>=3.0.0->mlxtend) (1.16.0)\n",
      "Downloading mlxtend-0.23.1-py3-none-any.whl (1.4 MB)\n",
      "   ---------------------------------------- 0.0/1.4 MB ? eta -:--:--\n",
      "   ---------------------------------------- 0.0/1.4 MB ? eta -:--:--\n",
      "    --------------------------------------- 0.0/1.4 MB 435.7 kB/s eta 0:00:04\n",
      "   - -------------------------------------- 0.0/1.4 MB 393.8 kB/s eta 0:00:04\n",
      "   - -------------------------------------- 0.1/1.4 MB 365.7 kB/s eta 0:00:04\n",
      "   - -------------------------------------- 0.1/1.4 MB 365.7 kB/s eta 0:00:04\n",
      "   - -------------------------------------- 0.1/1.4 MB 365.7 kB/s eta 0:00:04\n",
      "   - -------------------------------------- 0.1/1.4 MB 365.7 kB/s eta 0:00:04\n",
      "   - -------------------------------------- 0.1/1.4 MB 365.7 kB/s eta 0:00:04\n",
      "   - -------------------------------------- 0.1/1.4 MB 365.7 kB/s eta 0:00:04\n",
      "   - -------------------------------------- 0.1/1.4 MB 365.7 kB/s eta 0:00:04\n",
      "   - -------------------------------------- 0.1/1.4 MB 365.7 kB/s eta 0:00:04\n",
      "   - -------------------------------------- 0.1/1.4 MB 365.7 kB/s eta 0:00:04\n",
      "   - -------------------------------------- 0.1/1.4 MB 365.7 kB/s eta 0:00:04\n",
      "   - -------------------------------------- 0.1/1.4 MB 365.7 kB/s eta 0:00:04\n",
      "   - -------------------------------------- 0.1/1.4 MB 365.7 kB/s eta 0:00:04\n",
      "   - -------------------------------------- 0.1/1.4 MB 365.7 kB/s eta 0:00:04\n",
      "   - -------------------------------------- 0.1/1.4 MB 365.7 kB/s eta 0:00:04\n",
      "   - -------------------------------------- 0.1/1.4 MB 365.7 kB/s eta 0:00:04\n",
      "   - -------------------------------------- 0.1/1.4 MB 365.7 kB/s eta 0:00:04\n",
      "   - -------------------------------------- 0.1/1.4 MB 365.7 kB/s eta 0:00:04\n",
      "   - -------------------------------------- 0.1/1.4 MB 365.7 kB/s eta 0:00:04\n",
      "   -- ------------------------------------- 0.1/1.4 MB 69.5 kB/s eta 0:00:20\n",
      "   -- ------------------------------------- 0.1/1.4 MB 69.5 kB/s eta 0:00:20\n",
      "   -- ------------------------------------- 0.1/1.4 MB 73.9 kB/s eta 0:00:19\n",
      "   --- ------------------------------------ 0.1/1.4 MB 87.4 kB/s eta 0:00:16\n",
      "   --- ------------------------------------ 0.1/1.4 MB 92.5 kB/s eta 0:00:15\n",
      "   --- ------------------------------------ 0.1/1.4 MB 92.5 kB/s eta 0:00:15\n",
      "   --- ------------------------------------ 0.1/1.4 MB 92.5 kB/s eta 0:00:15\n",
      "   --- ------------------------------------ 0.1/1.4 MB 92.5 kB/s eta 0:00:15\n",
      "   --- ------------------------------------ 0.1/1.4 MB 94.7 kB/s eta 0:00:14\n",
      "   ---- ----------------------------------- 0.2/1.4 MB 104.6 kB/s eta 0:00:13\n",
      "   ---- ----------------------------------- 0.2/1.4 MB 107.0 kB/s eta 0:00:12\n",
      "   ---- ----------------------------------- 0.2/1.4 MB 107.0 kB/s eta 0:00:12\n",
      "   ---- ----------------------------------- 0.2/1.4 MB 107.0 kB/s eta 0:00:12\n",
      "   ---- ----------------------------------- 0.2/1.4 MB 107.0 kB/s eta 0:00:12\n",
      "   ----- ---------------------------------- 0.2/1.4 MB 103.5 kB/s eta 0:00:13\n",
      "   ----- ---------------------------------- 0.2/1.4 MB 103.5 kB/s eta 0:00:13\n",
      "   ----- ---------------------------------- 0.2/1.4 MB 103.5 kB/s eta 0:00:13\n",
      "   ----- ---------------------------------- 0.2/1.4 MB 103.5 kB/s eta 0:00:13\n",
      "   ----- ---------------------------------- 0.2/1.4 MB 103.5 kB/s eta 0:00:13\n",
      "   ----- ---------------------------------- 0.2/1.4 MB 96.6 kB/s eta 0:00:13\n",
      "   ----- ---------------------------------- 0.2/1.4 MB 96.6 kB/s eta 0:00:13\n",
      "   ------ --------------------------------- 0.2/1.4 MB 102.0 kB/s eta 0:00:13\n",
      "   ------ --------------------------------- 0.2/1.4 MB 102.0 kB/s eta 0:00:13\n",
      "   ------ --------------------------------- 0.2/1.4 MB 102.0 kB/s eta 0:00:13\n",
      "   ------ --------------------------------- 0.2/1.4 MB 102.0 kB/s eta 0:00:13\n",
      "   ------ --------------------------------- 0.2/1.4 MB 102.0 kB/s eta 0:00:13\n",
      "   ------ --------------------------------- 0.2/1.4 MB 99.8 kB/s eta 0:00:13\n",
      "   ------ --------------------------------- 0.2/1.4 MB 99.8 kB/s eta 0:00:13\n",
      "   ------- -------------------------------- 0.3/1.4 MB 100.8 kB/s eta 0:00:12\n",
      "   ------- -------------------------------- 0.3/1.4 MB 100.8 kB/s eta 0:00:12\n",
      "   ------- -------------------------------- 0.3/1.4 MB 104.5 kB/s eta 0:00:12\n",
      "   ------- -------------------------------- 0.3/1.4 MB 104.5 kB/s eta 0:00:12\n",
      "   ------- -------------------------------- 0.3/1.4 MB 104.5 kB/s eta 0:00:12\n",
      "   ------- -------------------------------- 0.3/1.4 MB 103.5 kB/s eta 0:00:12\n",
      "   ------- -------------------------------- 0.3/1.4 MB 103.5 kB/s eta 0:00:12\n",
      "   -------- ------------------------------- 0.3/1.4 MB 106.8 kB/s eta 0:00:11\n",
      "   -------- ------------------------------- 0.3/1.4 MB 106.8 kB/s eta 0:00:11\n",
      "   --------- ------------------------------ 0.3/1.4 MB 111.0 kB/s eta 0:00:11\n",
      "   --------- ------------------------------ 0.3/1.4 MB 111.6 kB/s eta 0:00:10\n",
      "   --------- ------------------------------ 0.3/1.4 MB 111.6 kB/s eta 0:00:10\n",
      "   --------- ------------------------------ 0.4/1.4 MB 115.5 kB/s eta 0:00:10\n",
      "   ---------- ----------------------------- 0.4/1.4 MB 117.0 kB/s eta 0:00:10\n",
      "   ---------- ----------------------------- 0.4/1.4 MB 121.2 kB/s eta 0:00:09\n",
      "   ---------- ----------------------------- 0.4/1.4 MB 121.2 kB/s eta 0:00:09\n",
      "   ----------- ---------------------------- 0.4/1.4 MB 124.1 kB/s eta 0:00:09\n",
      "   ----------- ---------------------------- 0.4/1.4 MB 125.5 kB/s eta 0:00:09\n",
      "   ----------- ---------------------------- 0.4/1.4 MB 125.5 kB/s eta 0:00:09\n",
      "   ------------ --------------------------- 0.4/1.4 MB 128.7 kB/s eta 0:00:08\n",
      "   ------------ --------------------------- 0.5/1.4 MB 130.5 kB/s eta 0:00:08\n",
      "   ------------ --------------------------- 0.5/1.4 MB 134.7 kB/s eta 0:00:08\n",
      "   ------------- -------------------------- 0.5/1.4 MB 138.1 kB/s eta 0:00:07\n",
      "   ------------- -------------------------- 0.5/1.4 MB 138.1 kB/s eta 0:00:07\n",
      "   ------------- -------------------------- 0.5/1.4 MB 138.1 kB/s eta 0:00:07\n",
      "   ------------- -------------------------- 0.5/1.4 MB 138.1 kB/s eta 0:00:07\n",
      "   ------------- -------------------------- 0.5/1.4 MB 138.1 kB/s eta 0:00:07\n",
      "   ------------- -------------------------- 0.5/1.4 MB 131.6 kB/s eta 0:00:08\n",
      "   ------------- -------------------------- 0.5/1.4 MB 131.6 kB/s eta 0:00:08\n",
      "   -------------- ------------------------- 0.5/1.4 MB 133.8 kB/s eta 0:00:07\n",
      "   -------------- ------------------------- 0.5/1.4 MB 133.8 kB/s eta 0:00:07\n",
      "   -------------- ------------------------- 0.5/1.4 MB 133.8 kB/s eta 0:00:07\n",
      "   -------------- ------------------------- 0.5/1.4 MB 133.8 kB/s eta 0:00:07\n",
      "   -------------- ------------------------- 0.5/1.4 MB 133.8 kB/s eta 0:00:07\n",
      "   -------------- ------------------------- 0.5/1.4 MB 128.6 kB/s eta 0:00:08\n",
      "   -------------- ------------------------- 0.5/1.4 MB 128.6 kB/s eta 0:00:08\n",
      "   -------------- ------------------------- 0.5/1.4 MB 128.6 kB/s eta 0:00:08\n",
      "   --------------- ------------------------ 0.6/1.4 MB 127.7 kB/s eta 0:00:08\n",
      "   --------------- ------------------------ 0.6/1.4 MB 127.7 kB/s eta 0:00:08\n",
      "   --------------- ------------------------ 0.6/1.4 MB 127.7 kB/s eta 0:00:08\n",
      "   --------------- ------------------------ 0.6/1.4 MB 127.7 kB/s eta 0:00:08\n",
      "   --------------- ------------------------ 0.6/1.4 MB 127.7 kB/s eta 0:00:08\n",
      "   --------------- ------------------------ 0.6/1.4 MB 127.7 kB/s eta 0:00:08\n",
      "   --------------- ------------------------ 0.6/1.4 MB 124.7 kB/s eta 0:00:08\n",
      "   --------------- ------------------------ 0.6/1.4 MB 124.7 kB/s eta 0:00:08\n",
      "   ---------------- ----------------------- 0.6/1.4 MB 123.6 kB/s eta 0:00:08\n",
      "   ---------------- ----------------------- 0.6/1.4 MB 123.6 kB/s eta 0:00:08\n",
      "   ---------------- ----------------------- 0.6/1.4 MB 123.7 kB/s eta 0:00:07\n",
      "   ---------------- ----------------------- 0.6/1.4 MB 123.7 kB/s eta 0:00:07\n",
      "   ---------------- ----------------------- 0.6/1.4 MB 123.7 kB/s eta 0:00:07\n",
      "   ---------------- ----------------------- 0.6/1.4 MB 123.7 kB/s eta 0:00:07\n",
      "   ---------------- ----------------------- 0.6/1.4 MB 123.7 kB/s eta 0:00:07\n",
      "   ---------------- ----------------------- 0.6/1.4 MB 122.4 kB/s eta 0:00:07\n",
      "   ---------------- ----------------------- 0.6/1.4 MB 122.4 kB/s eta 0:00:07\n",
      "   ----------------- ---------------------- 0.6/1.4 MB 121.7 kB/s eta 0:00:07\n",
      "   ----------------- ---------------------- 0.6/1.4 MB 121.7 kB/s eta 0:00:07\n",
      "   ----------------- ---------------------- 0.6/1.4 MB 123.9 kB/s eta 0:00:07\n",
      "   ------------------ --------------------- 0.7/1.4 MB 126.3 kB/s eta 0:00:07\n",
      "   ------------------ --------------------- 0.7/1.4 MB 126.3 kB/s eta 0:00:07\n",
      "   ------------------ --------------------- 0.7/1.4 MB 126.3 kB/s eta 0:00:07\n",
      "   ------------------ --------------------- 0.7/1.4 MB 126.3 kB/s eta 0:00:07\n",
      "   ------------------ --------------------- 0.7/1.4 MB 126.3 kB/s eta 0:00:07\n",
      "   ------------------ --------------------- 0.7/1.4 MB 126.3 kB/s eta 0:00:07\n",
      "   ------------------ --------------------- 0.7/1.4 MB 126.3 kB/s eta 0:00:07\n",
      "   ------------------ --------------------- 0.7/1.4 MB 126.3 kB/s eta 0:00:07\n",
      "   ------------------ --------------------- 0.7/1.4 MB 126.3 kB/s eta 0:00:07\n",
      "   ------------------ --------------------- 0.7/1.4 MB 126.3 kB/s eta 0:00:07\n",
      "   ------------------ --------------------- 0.7/1.4 MB 126.3 kB/s eta 0:00:07\n",
      "   ------------------ --------------------- 0.7/1.4 MB 126.3 kB/s eta 0:00:07\n",
      "   ------------------ --------------------- 0.7/1.4 MB 126.3 kB/s eta 0:00:07\n",
      "   ------------------ --------------------- 0.7/1.4 MB 126.3 kB/s eta 0:00:07\n",
      "   ------------------ --------------------- 0.7/1.4 MB 126.3 kB/s eta 0:00:07\n",
      "   ------------------ --------------------- 0.7/1.4 MB 126.3 kB/s eta 0:00:07\n",
      "   ------------------ --------------------- 0.7/1.4 MB 126.3 kB/s eta 0:00:07\n",
      "   ------------------ --------------------- 0.7/1.4 MB 126.3 kB/s eta 0:00:07\n",
      "   ------------------ --------------------- 0.7/1.4 MB 109.5 kB/s eta 0:00:08\n",
      "   ------------------- -------------------- 0.7/1.4 MB 112.0 kB/s eta 0:00:07\n",
      "   ------------------- -------------------- 0.7/1.4 MB 112.0 kB/s eta 0:00:07\n",
      "   ------------------- -------------------- 0.7/1.4 MB 112.0 kB/s eta 0:00:07\n",
      "   ------------------- -------------------- 0.7/1.4 MB 112.0 kB/s eta 0:00:07\n",
      "   ------------------- -------------------- 0.7/1.4 MB 110.3 kB/s eta 0:00:07\n",
      "   ------------------- -------------------- 0.7/1.4 MB 110.3 kB/s eta 0:00:07\n",
      "   ------------------- -------------------- 0.7/1.4 MB 110.3 kB/s eta 0:00:07\n",
      "   ------------------- -------------------- 0.7/1.4 MB 110.3 kB/s eta 0:00:07\n",
      "   ------------------- -------------------- 0.7/1.4 MB 110.3 kB/s eta 0:00:07\n",
      "   -------------------- ------------------- 0.7/1.4 MB 109.2 kB/s eta 0:00:07\n",
      "   -------------------- ------------------- 0.7/1.4 MB 111.3 kB/s eta 0:00:07\n",
      "   -------------------- ------------------- 0.8/1.4 MB 111.8 kB/s eta 0:00:07\n",
      "   --------------------- ------------------ 0.8/1.4 MB 114.3 kB/s eta 0:00:06\n",
      "   --------------------- ------------------ 0.8/1.4 MB 114.3 kB/s eta 0:00:06\n",
      "   --------------------- ------------------ 0.8/1.4 MB 114.0 kB/s eta 0:00:06\n",
      "   --------------------- ------------------ 0.8/1.4 MB 114.0 kB/s eta 0:00:06\n",
      "   --------------------- ------------------ 0.8/1.4 MB 114.0 kB/s eta 0:00:06\n",
      "   --------------------- ------------------ 0.8/1.4 MB 114.0 kB/s eta 0:00:06\n",
      "   --------------------- ------------------ 0.8/1.4 MB 114.0 kB/s eta 0:00:06\n",
      "   --------------------- ------------------ 0.8/1.4 MB 114.0 kB/s eta 0:00:06\n",
      "   --------------------- ------------------ 0.8/1.4 MB 114.0 kB/s eta 0:00:06\n",
      "   ---------------------- ----------------- 0.8/1.4 MB 111.6 kB/s eta 0:00:06\n",
      "   ---------------------- ----------------- 0.8/1.4 MB 111.6 kB/s eta 0:00:06\n",
      "   ---------------------- ----------------- 0.8/1.4 MB 111.6 kB/s eta 0:00:06\n",
      "   ---------------------- ----------------- 0.8/1.4 MB 111.6 kB/s eta 0:00:06\n",
      "   ---------------------- ----------------- 0.8/1.4 MB 111.8 kB/s eta 0:00:06\n",
      "   ---------------------- ----------------- 0.8/1.4 MB 111.8 kB/s eta 0:00:06\n",
      "   ---------------------- ----------------- 0.8/1.4 MB 111.8 kB/s eta 0:00:06\n",
      "   ---------------------- ----------------- 0.8/1.4 MB 111.8 kB/s eta 0:00:06\n",
      "   ---------------------- ----------------- 0.8/1.4 MB 111.8 kB/s eta 0:00:06\n",
      "   ---------------------- ----------------- 0.8/1.4 MB 111.8 kB/s eta 0:00:06\n",
      "   ----------------------- ---------------- 0.8/1.4 MB 108.1 kB/s eta 0:00:06\n",
      "   ----------------------- ---------------- 0.8/1.4 MB 108.1 kB/s eta 0:00:06\n",
      "   ----------------------- ---------------- 0.8/1.4 MB 108.1 kB/s eta 0:00:06\n",
      "   ----------------------- ---------------- 0.8/1.4 MB 108.1 kB/s eta 0:00:06\n",
      "   ----------------------- ---------------- 0.9/1.4 MB 108.1 kB/s eta 0:00:06\n",
      "   ----------------------- ---------------- 0.9/1.4 MB 108.1 kB/s eta 0:00:06\n",
      "   ----------------------- ---------------- 0.9/1.4 MB 108.1 kB/s eta 0:00:06\n",
      "   ----------------------- ---------------- 0.9/1.4 MB 108.1 kB/s eta 0:00:06\n",
      "   ------------------------ --------------- 0.9/1.4 MB 107.1 kB/s eta 0:00:06\n",
      "   ------------------------ --------------- 0.9/1.4 MB 107.1 kB/s eta 0:00:06\n",
      "   ------------------------ --------------- 0.9/1.4 MB 107.1 kB/s eta 0:00:06\n",
      "   ------------------------ --------------- 0.9/1.4 MB 107.1 kB/s eta 0:00:06\n",
      "   ------------------------ --------------- 0.9/1.4 MB 107.0 kB/s eta 0:00:06\n",
      "   ------------------------ --------------- 0.9/1.4 MB 107.0 kB/s eta 0:00:06\n",
      "   ------------------------- -------------- 0.9/1.4 MB 108.4 kB/s eta 0:00:05\n",
      "   ------------------------- -------------- 0.9/1.4 MB 108.4 kB/s eta 0:00:05\n",
      "   ------------------------- -------------- 0.9/1.4 MB 108.4 kB/s eta 0:00:05\n",
      "   ------------------------- -------------- 0.9/1.4 MB 107.6 kB/s eta 0:00:05\n",
      "   ------------------------- -------------- 0.9/1.4 MB 107.6 kB/s eta 0:00:05\n",
      "   ------------------------- -------------- 0.9/1.4 MB 108.4 kB/s eta 0:00:05\n",
      "   ------------------------- -------------- 0.9/1.4 MB 108.4 kB/s eta 0:00:05\n",
      "   -------------------------- ------------- 1.0/1.4 MB 108.6 kB/s eta 0:00:05\n",
      "   -------------------------- ------------- 1.0/1.4 MB 110.0 kB/s eta 0:00:05\n",
      "   -------------------------- ------------- 1.0/1.4 MB 110.0 kB/s eta 0:00:05\n",
      "   --------------------------- ------------ 1.0/1.4 MB 111.4 kB/s eta 0:00:05\n",
      "   --------------------------- ------------ 1.0/1.4 MB 111.9 kB/s eta 0:00:04\n",
      "   ---------------------------- ----------- 1.0/1.4 MB 113.4 kB/s eta 0:00:04\n",
      "   ---------------------------- ----------- 1.0/1.4 MB 114.0 kB/s eta 0:00:04\n",
      "   ---------------------------- ----------- 1.0/1.4 MB 114.7 kB/s eta 0:00:04\n",
      "   ----------------------------- ---------- 1.1/1.4 MB 116.4 kB/s eta 0:00:04\n",
      "   ----------------------------- ---------- 1.1/1.4 MB 116.4 kB/s eta 0:00:04\n",
      "   ------------------------------ --------- 1.1/1.4 MB 118.3 kB/s eta 0:00:03\n",
      "   ------------------------------ --------- 1.1/1.4 MB 118.3 kB/s eta 0:00:03\n",
      "   ------------------------------ --------- 1.1/1.4 MB 118.5 kB/s eta 0:00:03\n",
      "   ------------------------------- -------- 1.1/1.4 MB 120.1 kB/s eta 0:00:03\n",
      "   ------------------------------- -------- 1.1/1.4 MB 121.2 kB/s eta 0:00:03\n",
      "   ------------------------------- -------- 1.1/1.4 MB 121.2 kB/s eta 0:00:03\n",
      "   ------------------------------- -------- 1.2/1.4 MB 121.1 kB/s eta 0:00:03\n",
      "   ------------------------------- -------- 1.2/1.4 MB 121.1 kB/s eta 0:00:03\n",
      "   ------------------------------- -------- 1.2/1.4 MB 121.1 kB/s eta 0:00:03\n",
      "   ------------------------------- -------- 1.2/1.4 MB 121.1 kB/s eta 0:00:03\n",
      "   ------------------------------- -------- 1.2/1.4 MB 121.1 kB/s eta 0:00:03\n",
      "   -------------------------------- ------- 1.2/1.4 MB 120.1 kB/s eta 0:00:03\n",
      "   -------------------------------- ------- 1.2/1.4 MB 120.1 kB/s eta 0:00:03\n",
      "   -------------------------------- ------- 1.2/1.4 MB 120.1 kB/s eta 0:00:03\n",
      "   -------------------------------- ------- 1.2/1.4 MB 119.6 kB/s eta 0:00:03\n",
      "   -------------------------------- ------- 1.2/1.4 MB 119.6 kB/s eta 0:00:03\n",
      "   -------------------------------- ------- 1.2/1.4 MB 119.6 kB/s eta 0:00:03\n",
      "   -------------------------------- ------- 1.2/1.4 MB 119.6 kB/s eta 0:00:03\n",
      "   -------------------------------- ------- 1.2/1.4 MB 119.6 kB/s eta 0:00:03\n",
      "   -------------------------------- ------- 1.2/1.4 MB 119.6 kB/s eta 0:00:03\n",
      "   -------------------------------- ------- 1.2/1.4 MB 119.6 kB/s eta 0:00:03\n",
      "   -------------------------------- ------- 1.2/1.4 MB 119.6 kB/s eta 0:00:03\n",
      "   --------------------------------- ------ 1.2/1.4 MB 116.9 kB/s eta 0:00:03\n",
      "   --------------------------------- ------ 1.2/1.4 MB 116.9 kB/s eta 0:00:03\n",
      "   --------------------------------- ------ 1.2/1.4 MB 116.9 kB/s eta 0:00:03\n",
      "   --------------------------------- ------ 1.2/1.4 MB 117.1 kB/s eta 0:00:02\n",
      "   --------------------------------- ------ 1.2/1.4 MB 117.1 kB/s eta 0:00:02\n",
      "   ---------------------------------- ----- 1.2/1.4 MB 117.0 kB/s eta 0:00:02\n",
      "   ---------------------------------- ----- 1.2/1.4 MB 117.0 kB/s eta 0:00:02\n",
      "   ---------------------------------- ----- 1.3/1.4 MB 118.1 kB/s eta 0:00:02\n",
      "   ---------------------------------- ----- 1.3/1.4 MB 118.1 kB/s eta 0:00:02\n",
      "   ---------------------------------- ----- 1.3/1.4 MB 118.1 kB/s eta 0:00:02\n",
      "   ---------------------------------- ----- 1.3/1.4 MB 118.1 kB/s eta 0:00:02\n",
      "   ---------------------------------- ----- 1.3/1.4 MB 118.1 kB/s eta 0:00:02\n",
      "   ---------------------------------- ----- 1.3/1.4 MB 118.1 kB/s eta 0:00:02\n",
      "   ----------------------------------- ---- 1.3/1.4 MB 115.7 kB/s eta 0:00:02\n",
      "   ----------------------------------- ---- 1.3/1.4 MB 116.9 kB/s eta 0:00:02\n",
      "   ------------------------------------ --- 1.3/1.4 MB 118.2 kB/s eta 0:00:02\n",
      "   ------------------------------------ --- 1.3/1.4 MB 118.2 kB/s eta 0:00:02\n",
      "   ------------------------------------ --- 1.3/1.4 MB 118.2 kB/s eta 0:00:02\n",
      "   ------------------------------------ --- 1.3/1.4 MB 117.8 kB/s eta 0:00:02\n",
      "   ------------------------------------- -- 1.3/1.4 MB 119.3 kB/s eta 0:00:01\n",
      "   ------------------------------------- -- 1.4/1.4 MB 119.4 kB/s eta 0:00:01\n",
      "   ------------------------------------- -- 1.4/1.4 MB 119.4 kB/s eta 0:00:01\n",
      "   ------------------------------------- -- 1.4/1.4 MB 120.2 kB/s eta 0:00:01\n",
      "   ------------------------------------- -- 1.4/1.4 MB 120.2 kB/s eta 0:00:01\n",
      "   ------------------------------------- -- 1.4/1.4 MB 120.2 kB/s eta 0:00:01\n",
      "   ------------------------------------- -- 1.4/1.4 MB 120.2 kB/s eta 0:00:01\n",
      "   ------------------------------------- -- 1.4/1.4 MB 120.2 kB/s eta 0:00:01\n",
      "   ------------------------------------- -- 1.4/1.4 MB 120.2 kB/s eta 0:00:01\n",
      "   ------------------------------------- -- 1.4/1.4 MB 120.2 kB/s eta 0:00:01\n",
      "   ------------------------------------- -- 1.4/1.4 MB 120.2 kB/s eta 0:00:01\n",
      "   ------------------------------------- -- 1.4/1.4 MB 120.2 kB/s eta 0:00:01\n",
      "   ------------------------------------- -- 1.4/1.4 MB 120.2 kB/s eta 0:00:01\n",
      "   ------------------------------------- -- 1.4/1.4 MB 120.2 kB/s eta 0:00:01\n",
      "   ------------------------------------- -- 1.4/1.4 MB 120.2 kB/s eta 0:00:01\n",
      "   ------------------------------------- -- 1.4/1.4 MB 120.2 kB/s eta 0:00:01\n",
      "   ------------------------------------- -- 1.4/1.4 MB 120.2 kB/s eta 0:00:01\n",
      "   ------------------------------------- -- 1.4/1.4 MB 120.2 kB/s eta 0:00:01\n",
      "   ------------------------------------- -- 1.4/1.4 MB 120.2 kB/s eta 0:00:01\n",
      "   ------------------------------------- -- 1.4/1.4 MB 120.2 kB/s eta 0:00:01\n",
      "   ------------------------------------- -- 1.4/1.4 MB 120.2 kB/s eta 0:00:01\n",
      "   ------------------------------------- -- 1.4/1.4 MB 120.2 kB/s eta 0:00:01\n",
      "   -------------------------------------- - 1.4/1.4 MB 112.8 kB/s eta 0:00:01\n",
      "   -------------------------------------- - 1.4/1.4 MB 112.8 kB/s eta 0:00:01\n",
      "   -------------------------------------- - 1.4/1.4 MB 113.0 kB/s eta 0:00:01\n",
      "   ---------------------------------------  1.4/1.4 MB 113.9 kB/s eta 0:00:01\n",
      "   ---------------------------------------  1.4/1.4 MB 114.3 kB/s eta 0:00:01\n",
      "   ---------------------------------------  1.4/1.4 MB 114.7 kB/s eta 0:00:01\n",
      "   ---------------------------------------- 1.4/1.4 MB 114.7 kB/s eta 0:00:00\n",
      "Installing collected packages: mlxtend\n",
      "Successfully installed mlxtend-0.23.1\n",
      "Note: you may need to restart the kernel to use updated packages.\n"
     ]
    }
   ],
   "source": [
    "pip install mlxtend"
   ]
  },
  {
   "cell_type": "code",
   "execution_count": 41,
   "id": "951b9ebd",
   "metadata": {},
   "outputs": [],
   "source": [
    "from mlxtend.plotting import plot_decision_regions"
   ]
  },
  {
   "cell_type": "code",
   "execution_count": 43,
   "id": "d4abc597",
   "metadata": {},
   "outputs": [
    {
     "data": {
      "text/plain": [
       "<Axes: >"
      ]
     },
     "execution_count": 43,
     "metadata": {},
     "output_type": "execute_result"
    },
    {
     "data": {
      "image/png": "[encoded data removed]",
      "text/plain": [
       "<Figure size 640x480 with 1 Axes>"
      ]
     },
     "metadata": {},
     "output_type": "display_data"
    }
   ],
   "source": [
    "plot_decision_regions(X_train, Y_train.values, clf=clf, legend=2)"
   ]
  },
  {
   "cell_type": "code",
   "execution_count": 44,
   "id": "14bd6dbd",
   "metadata": {},
   "outputs": [],
   "source": [
    "import pickle"
   ]
  },
  {
   "cell_type": "code",
   "execution_count": 45,
   "id": "bb14d408",
   "metadata": {},
   "outputs": [],
   "source": [
    "pickle.dump(clf,open('model.pkl','wb'))"
   ]
  },
  {
   "cell_type": "code",
   "execution_count": null,
   "id": "01df7256",
   "metadata": {},
   "outputs": [],
   "source": []
  }
 ],
 "metadata": {
  "kernelspec": {
   "display_name": "Python 3 (ipykernel)",
   "language": "python",
   "name": "python3"
  },
  "language_info": {
   "codemirror_mode": {
    "name": "ipython",
    "version": 3
   },
   "file_extension": ".py",
   "mimetype": "text/x-python",
   "name": "python",
   "nbconvert_exporter": "python",
   "pygments_lexer": "ipython3",
   "version": "3.11.5"
  }
 },
 "nbformat": 4,
 "nbformat_minor": 5
}
